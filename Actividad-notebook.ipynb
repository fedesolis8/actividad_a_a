{
 "cells": [
  {
   "cell_type": "code",
   "execution_count": 1,
   "id": "0b6f4343",
   "metadata": {},
   "outputs": [],
   "source": [
    "import pandas as pd\n",
    "import numpy as np\n",
    "from sklearn.datasets import load_wine\n",
    "from sklearn.model_selection import train_test_split\n",
    "from sklearn.neighbors import KNeighborsClassifier\n",
    "from sklearn.tree import DecisionTreeClassifier\n",
    "from sklearn.metrics import accuracy_score"
   ]
  },
  {
   "cell_type": "code",
   "execution_count": 2,
   "id": "2516eb38",
   "metadata": {},
   "outputs": [
    {
     "name": "stdout",
     "output_type": "stream",
     "text": [
      "Dataset cargado y dividido\n",
      " - Muestras para entrenamiento: 142\n",
      " - Muestras para prueba: 36\n"
     ]
    }
   ],
   "source": [
    "\n",
    "wine_data = load_wine()\n",
    "X = wine_data.data  #características (datos de los vinos)\n",
    "y = wine_data.target #etiquetas (tipo de vino: clase 0, 1 o 2)\n",
    "\n",
    "# Dividir los datos: 80% para entrenar, 20% para probar\n",
    "X_train, X_test, y_train, y_test = train_test_split(X, y, test_size=0.2, random_state=42)\n",
    "\n",
    "print(\"Dataset cargado y dividido\")\n",
    "print(f\" - Muestras para entrenamiento: {X_train.shape[0]}\")\n",
    "print(f\" - Muestras para prueba: {X_test.shape[0]}\")"
   ]
  },
  {
   "cell_type": "code",
   "execution_count": 3,
   "id": "459235b8",
   "metadata": {},
   "outputs": [
    {
     "name": "stdout",
     "output_type": "stream",
     "text": [
      "Resultados del Clasificador K-NN:\n",
      " -> La precisión del modelo es: 0.7222\n"
     ]
    },
    {
     "name": "stderr",
     "output_type": "stream",
     "text": [
      "D:\\Anaconda\\lib\\site-packages\\sklearn\\neighbors\\_classification.py:228: FutureWarning: Unlike other reduction functions (e.g. `skew`, `kurtosis`), the default behavior of `mode` typically preserves the axis it acts along. In SciPy 1.11.0, this behavior will change: the default value of `keepdims` will become False, the `axis` over which the statistic is taken will be eliminated, and the value None will no longer be accepted. Set `keepdims` to True or False to avoid this warning.\n",
      "  mode, _ = stats.mode(_y[neigh_ind, k], axis=1)\n"
     ]
    }
   ],
   "source": [
    "# 1. Crear el clasificador K-NN\n",
    "# Uso k=5 vecinos\n",
    "knn_classifier = KNeighborsClassifier(n_neighbors=5)\n",
    "\n",
    "# 2. Entrenar el modelo con los datos de entrenamiento\n",
    "knn_classifier.fit(X_train, y_train)\n",
    "\n",
    "# 3. Hacer predicciones con los datos de prueba\n",
    "y_pred_knn = knn_classifier.predict(X_test)\n",
    "\n",
    "# 4. Calcular la precisión del modelo\n",
    "accuracy_knn = accuracy_score(y_test, y_pred_knn)\n",
    "\n",
    "print(f\"Resultados del Clasificador K-NN:\")\n",
    "print(f\" -> La precisión del modelo es: {accuracy_knn:.4f}\")"
   ]
  },
  {
   "cell_type": "code",
   "execution_count": 4,
   "id": "95cdf0f3",
   "metadata": {},
   "outputs": [
    {
     "name": "stdout",
     "output_type": "stream",
     "text": [
      "Resultados del Clasificador de Árbol de Decisión:\n",
      " -> La precisión del modelo es: 0.9444\n"
     ]
    }
   ],
   "source": [
    "# 1. Crear el clasificador de Árbol de Decisión\n",
    "# Uso una profundidad máxima de 3 para que no sea demasiado complejo\n",
    "tree_classifier = DecisionTreeClassifier(max_depth=3, random_state=42)\n",
    "\n",
    "# 2. Entrenar el modelo\n",
    "tree_classifier.fit(X_train, y_train)\n",
    "\n",
    "# 3. Hacer predicciones\n",
    "y_pred_tree = tree_classifier.predict(X_test)\n",
    "\n",
    "# 4. Calcular la precisión\n",
    "accuracy_tree = accuracy_score(y_test, y_pred_tree)\n",
    "\n",
    "print(f\"Resultados del Clasificador de Árbol de Decisión:\")\n",
    "print(f\" -> La precisión del modelo es: {accuracy_tree:.4f}\")"
   ]
  },
  {
   "cell_type": "code",
   "execution_count": null,
   "id": "7ec7f93d",
   "metadata": {},
   "outputs": [],
   "source": []
  }
 ],
 "metadata": {
  "kernelspec": {
   "display_name": "Python 3 (ipykernel)",
   "language": "python",
   "name": "python3"
  },
  "language_info": {
   "codemirror_mode": {
    "name": "ipython",
    "version": 3
   },
   "file_extension": ".py",
   "mimetype": "text/x-python",
   "name": "python",
   "nbconvert_exporter": "python",
   "pygments_lexer": "ipython3",
   "version": "3.9.13"
  }
 },
 "nbformat": 4,
 "nbformat_minor": 5
}
